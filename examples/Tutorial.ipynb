{
 "cells": [
  {
   "cell_type": "markdown",
   "metadata": {},
   "source": [
    "SKLL can be used in 2 ways -\n",
    "\n",
    "---\n",
    "1. *Command Line*\n",
    "    - Get data in [SKLL compatible format](https://skll.readthedocs.io/en/latest/run_experiment.html#file-formats).\n",
    "    - Create a [python configuration file](https://skll.readthedocs.io/en/latest/run_experiment.html#create-config).\n",
    "    - Run the experiment using [run_experiment](https://skll.readthedocs.io/en/latest/run_experiment.html) command.\n",
    "    - Examine results using the several [utility](https://skll.readthedocs.io/en/latest/utilities.html) commands provided.\n",
    "---    \n",
    "2. *Python API*"
   ]
  },
  {
   "cell_type": "markdown",
   "metadata": {},
   "source": [
    "# Command Line"
   ]
  },
  {
   "cell_type": "code",
   "execution_count": null,
   "metadata": {},
   "outputs": [],
   "source": [
    "!pwd"
   ]
  },
  {
   "cell_type": "code",
   "execution_count": null,
   "metadata": {},
   "outputs": [],
   "source": [
    "!ls"
   ]
  },
  {
   "cell_type": "markdown",
   "metadata": {},
   "source": [
    "### Dataset Manipulation"
   ]
  },
  {
   "cell_type": "markdown",
   "metadata": {},
   "source": [
    "We shall be using the IRIS dataset for this simple tutorial. It is a simple 3-Class Classification using a single set of 4 features.\n",
    "\n",
    "The utility python script *make_iris_example_data.py* downloads the IRIS dataset from scikit-learn and pre-processes it to make train, test sub-directories within the *iris* directory. \n",
    "\n",
    "Each of the generated sub-directories (*iris/train* and *iris/test*) contains a feature file in SKLL compatible *jsonlines* format."
   ]
  },
  {
   "cell_type": "code",
   "execution_count": null,
   "metadata": {},
   "outputs": [],
   "source": [
    "!python3 make_iris_example_data.py"
   ]
  },
  {
   "cell_type": "code",
   "execution_count": null,
   "metadata": {},
   "outputs": [],
   "source": [
    "import os\n",
    "\n",
    "def list_files(startpath):\n",
    "    for root, dirs, files in os.walk(startpath):\n",
    "        level = root.replace(startpath, '').count(os.sep)\n",
    "        indent = ' ' * 4 * (level)\n",
    "        print('{}{}/'.format(indent, os.path.basename(root)))\n",
    "        subindent = ' ' * 4 * (level + 1)\n",
    "        for f in sorted(files):\n",
    "            print('{}{}'.format(subindent, f))\n",
    "\n",
    "list_files('iris')"
   ]
  },
  {
   "cell_type": "code",
   "execution_count": null,
   "metadata": {},
   "outputs": [],
   "source": [
    "!head -5 iris/train/example_iris_features.jsonlines"
   ]
  },
  {
   "cell_type": "markdown",
   "metadata": {},
   "source": [
    "The *[skll_convert](https://skll.readthedocs.io/en/latest/utilities.html#skll-convert)* command can be used to convert between [SKLL feature file formats](https://skll.readthedocs.io/en/latest/run_experiment.html#feature-file-formats). "
   ]
  },
  {
   "cell_type": "code",
   "execution_count": null,
   "metadata": {},
   "outputs": [],
   "source": [
    "!skll_convert iris/train/example_iris_features.jsonlines iris/train/example_iris_features.csv \n",
    "print()\n",
    "!ls iris/train\n",
    "print()\n",
    "!head -5 iris/train/example_iris_features.csv"
   ]
  },
  {
   "cell_type": "markdown",
   "metadata": {},
   "source": [
    "### Configuration File"
   ]
  },
  {
   "cell_type": "markdown",
   "metadata": {},
   "source": [
    "At the core of SKLL experiments is the configuration file which is executed with the *run_experiment* command. \n",
    "SKLL configuration files are standard Python configuration files (similar in format to Windows INI files).\n",
    "\n",
    "The 4 expected sections in a configuration file are :\n",
    "1. [General](https://skll.readthedocs.io/en/latest/run_experiment.html#general)\n",
    "    - Defines *experiment_name* and *task* (both compulsory fields)\n",
    "    - 4 tasks are supported :\n",
    "        1. cross_validate\n",
    "        2. evaluate\n",
    "        3. predict\n",
    "        4. learning curve\n",
    "2. [Input](https://skll.readthedocs.io/en/latest/run_experiment.html#input)\n",
    "    - Defines the *learners* list (compulsory)\n",
    "    - Additionally, one of *train_directory* or *train_file* field must be defined.\n",
    "    - All other fields are optional.\n",
    "3. [Tuning](https://skll.readthedocs.io/en/latest/run_experiment.html#tuning)\n",
    "    - Contains fields related to tuning the models such as *objectives*, *grid_search* etc.\n",
    "    - All the fields in this section are optional.\n",
    "4. [Output](https://skll.readthedocs.io/en/latest/run_experiment.html#output)\n",
    "    - Contains fields related to output post model training such as *probability*, *metrics*, *results* etc.\n",
    "    - All the fields in this section are optional.\n",
    "    \n",
    "    \n",
    "An example config file for the IRIS dataset is shown here."
   ]
  },
  {
   "cell_type": "code",
   "execution_count": null,
   "metadata": {},
   "outputs": [],
   "source": [
    "with open('iris/cross_val.cfg', 'r') as config_file:\n",
    "    print(config_file.read())"
   ]
  },
  {
   "cell_type": "markdown",
   "metadata": {},
   "source": [
    "### run_experiment\n",
    "\n",
    "After defining the configuration file, we can use the [run_experiment CONFIGURATION_FILE](https://skll.readthedocs.io/en/latest/run_experiment.html#using-run-experiment) command. Although most of the parameters are defined in the config file, some are passed as arguments to *run_experiment* (--ablation, --local etc.).\n",
    "\n",
    "Here we try out the cross validation configuration shown earlier."
   ]
  },
  {
   "cell_type": "code",
   "execution_count": null,
   "metadata": {},
   "outputs": [],
   "source": [
    "!run_experiment --local --verbose iris/cross_val.cfg"
   ]
  },
  {
   "cell_type": "markdown",
   "metadata": {},
   "source": [
    "### Analysing Output"
   ]
  },
  {
   "cell_type": "code",
   "execution_count": null,
   "metadata": {},
   "outputs": [],
   "source": [
    "list_files('iris')"
   ]
  },
  {
   "cell_type": "code",
   "execution_count": null,
   "metadata": {},
   "outputs": [],
   "source": [
    "!cat iris/output/Iris_CV_example_iris_LogisticRegression.results"
   ]
  },
  {
   "cell_type": "code",
   "execution_count": null,
   "metadata": {},
   "outputs": [],
   "source": [
    "!head -5 iris/output/Iris_CV_example_iris_LogisticRegression_predictions.tsv"
   ]
  },
  {
   "cell_type": "code",
   "execution_count": null,
   "metadata": {},
   "outputs": [],
   "source": [
    "!cat iris/output/Iris_CV_example_iris_LogisticRegression.log"
   ]
  },
  {
   "cell_type": "code",
   "execution_count": null,
   "metadata": {},
   "outputs": [],
   "source": [
    "import pandas as pd\n",
    "\n",
    "summary_df = pd.read_csv('iris/output/Iris_CV_summary.tsv', sep='\\t')\n",
    "print(summary_df.columns)"
   ]
  },
  {
   "cell_type": "code",
   "execution_count": null,
   "metadata": {},
   "outputs": [],
   "source": [
    "print(summary_df[['learner_name', 'accuracy', 'score', 'fold', 'featureset_name']])"
   ]
  },
  {
   "cell_type": "markdown",
   "metadata": {},
   "source": [
    "### Saving Models\n",
    "\n",
    "Modifying the cross_validation configuration to *train* task and saving models."
   ]
  },
  {
   "cell_type": "code",
   "execution_count": null,
   "metadata": {},
   "outputs": [],
   "source": [
    "import configparser\n",
    "\n",
    "template_config = configparser.ConfigParser()\n",
    "template_config.read('iris/cross_val.cfg')\n",
    "print(template_config.sections())\n",
    "template_config.set('General', 'task', 'train')\n",
    "template_config.set('Output', 'models', 'iris/models')\n",
    "\n",
    "with open('iris/train.cfg', 'w') as configfile:\n",
    "    template_config.write(configfile)"
   ]
  },
  {
   "cell_type": "code",
   "execution_count": null,
   "metadata": {},
   "outputs": [],
   "source": [
    "!run_experiment --local --verbose iris/train.cfg"
   ]
  },
  {
   "cell_type": "code",
   "execution_count": null,
   "metadata": {},
   "outputs": [],
   "source": [
    "!list_files('iris')"
   ]
  }
 ],
 "metadata": {
  "kernelspec": {
   "display_name": "Python 3",
   "language": "python",
   "name": "python3"
  },
  "language_info": {
   "codemirror_mode": {
    "name": "ipython",
    "version": 3
   },
   "file_extension": ".py",
   "mimetype": "text/x-python",
   "name": "python",
   "nbconvert_exporter": "python",
   "pygments_lexer": "ipython3",
   "version": "3.6.8"
  }
 },
 "nbformat": 4,
 "nbformat_minor": 2
}
